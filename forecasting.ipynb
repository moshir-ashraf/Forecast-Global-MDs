{
 "cells": [
  {
   "cell_type": "markdown",
   "metadata": {},
   "source": [
    "## Importing Libraries"
   ]
  },
  {
   "cell_type": "code",
   "execution_count": 1,
   "metadata": {},
   "outputs": [],
   "source": [
    "import os\n",
    "import random\n",
    "import warnings\n",
    "import numpy as np\n",
    "import pandas as pd\n",
    "import seaborn as sns\n",
    "import pmdarima as pm\n",
    "import tensorflow as tf\n",
    "import plotly.express as px\n",
    "import matplotlib.pyplot as plt\n",
    "from keras.models import Sequential\n",
    "from statsmodels.tsa.ar_model import AutoReg\n",
    "from statsmodels.tsa.stattools import adfuller\n",
    "from pandas.plotting import autocorrelation_plot\n",
    "from sklearn.model_selection import train_test_split\n",
    "from statsmodels.tsa.holtwinters import ExponentialSmoothing\n",
    "from tensorflow.keras.layers import SimpleRNN, LSTM, Dense, Conv1D, InputLayer\n",
    "warnings.filterwarnings(\"ignore\")"
   ]
  },
  {
   "cell_type": "markdown",
   "metadata": {},
   "source": [
    "## Loading the data"
   ]
  },
  {
   "cell_type": "code",
   "execution_count": 2,
   "metadata": {},
   "outputs": [],
   "source": [
    "def loadData ():\n",
    "    csvFiles = [os.path.join(\"datasets\", filename) for filename in os.listdir(\"datasets\") if filename.endswith(('.csv'))]\n",
    "    data = []\n",
    "    for file in csvFiles:\n",
    "        frame = pd.read_csv(file, low_memory=False).drop(['index'], axis=1)\n",
    "        if file == 'datasets\\Mental health Depression disorder Data.csv' :\n",
    "            frame = frame.loc[:6467]\n",
    "            for column in frame.columns:\n",
    "                if column != 'Entity' and column != 'Code':\n",
    "                    frame[column] = frame[column].astype(float)\n",
    "            frame['Year'] = frame['Year'].astype(int)\n",
    "        if 'Code' in frame.columns:\n",
    "            frame.drop(columns='Code',axis=1,inplace=True)\n",
    "        if 'Country' in frame.columns:\n",
    "            frame.rename(columns={'Country': 'Entity'}, inplace=True)\n",
    "        data.append(frame)\n",
    "    return data"
   ]
  },
  {
   "cell_type": "markdown",
   "metadata": {},
   "source": [
    "## Data PreProcessing"
   ]
  },
  {
   "cell_type": "code",
   "execution_count": 3,
   "metadata": {},
   "outputs": [],
   "source": [
    "def globalAverage(data, frame, disorder):\n",
    "    averages = []\n",
    "    for year in data['Year'].unique():\n",
    "        averages.append(data[data['Year'] == year][disorder].mean())\n",
    "    frame[disorder] = averages\n",
    "    return frame"
   ]
  },
  {
   "cell_type": "code",
   "execution_count": 4,
   "metadata": {},
   "outputs": [],
   "source": [
    "def yearlyAverage(data):\n",
    "    frames = []   \n",
    "    for dataframe in data:\n",
    "        frame = pd.DataFrame()\n",
    "        frame['Year'] = dataframe['Year'].unique()\n",
    "        frame['Year'] = frame['Year'].astype(int)\n",
    "        for feature in dataframe.columns[2:]:\n",
    "            frame = globalAverage(dataframe,frame, feature)\n",
    "        frames.append(frame)\n",
    "    return frames"
   ]
  },
  {
   "cell_type": "markdown",
   "metadata": {},
   "source": [
    "## Plotting the data"
   ]
  },
  {
   "cell_type": "code",
   "execution_count": 5,
   "metadata": {},
   "outputs": [],
   "source": [
    "def plotting(df, sort_by, color_by, dpi=200):\n",
    "    df.sort_values(by=sort_by, inplace=True)\n",
    "    plt.figure(dpi=dpi) \n",
    "    fig = px.bar(df, x=sort_by, y=\"Entity\", orientation='h', color=color_by)\n",
    "    fig.show()"
   ]
  },
  {
   "cell_type": "code",
   "execution_count": 6,
   "metadata": {},
   "outputs": [],
   "source": [
    "def plotHistogram(df, column, title, xlabel, ylabel, figsize=(10, 6), kde=True):\n",
    "    plt.figure(figsize=figsize)\n",
    "    sns.histplot(df[column], kde=kde)\n",
    "    plt.title(title)\n",
    "    plt.xlabel(xlabel)\n",
    "    plt.ylabel(ylabel)\n",
    "    plt.show()\n",
    "\n",
    "# Example usage\n",
    "# plot_histogram(df, 'Schizophrenia disorders (share of population) - Sex: Both - Age: Age-standardized', \n",
    "#                'Distribution of Schizophrenia Disorder Prevalence', 'Prevalence (Age-standardized)', 'Frequency')\n"
   ]
  },
  {
   "cell_type": "code",
   "execution_count": 7,
   "metadata": {},
   "outputs": [],
   "source": [
    "\n",
    "def plotLosses(trainLosses, valLosses, title='Training and Validation Losses', xlabel='Epoch', ylabel='Loss'):\n",
    "\n",
    "    plt.plot(trainLosses, label='Train Loss')\n",
    "    plt.plot(valLosses, label='Val Loss')\n",
    "    plt.xlabel(xlabel)\n",
    "    plt.ylabel(ylabel)\n",
    "    plt.title(title)\n",
    "    plt.legend()\n",
    "    plt.show()\n",
    "\n",
    "# Example usage\n",
    "# plot_losses(train_losses, val_losses)\n"
   ]
  },
  {
   "cell_type": "markdown",
   "metadata": {},
   "source": [
    "## Model Architecture"
   ]
  },
  {
   "cell_type": "code",
   "execution_count": 8,
   "metadata": {},
   "outputs": [],
   "source": [
    "# Function to plot predicted vs actual data\n",
    "def plotPredictionsVSActual(xTest, yTest, outputs, interval=(0, 39)):\n",
    "\n",
    "    i = random.randint(*interval)\n",
    "\n",
    "    # Extend the last point in the test sequence with the predicted and actual outcome\n",
    "    predicted = np.append(xTest[i, :, 0], outputs[i])\n",
    "    actual = np.append(xTest[i, :, 0], yTest[i])\n",
    "\n",
    "    # Time points for plotting\n",
    "    x = np.linspace(0, len(predicted) - 1, len(predicted))\n",
    "\n",
    "    # Plotting the series\n",
    "    plt.figure(figsize=(10, 6))\n",
    "    plt.plot(x[:-1], actual[:-1], 'r-', label='Actual (History)')\n",
    "    plt.plot(x[-1:], actual[-1:], 'ro', label='Actual (Latest)', markersize=10)\n",
    "    plt.plot(x[:-1], predicted[:-1], 'b-', label='Predicted (History)')\n",
    "    plt.plot(x[-1:], predicted[-1:], 'bo', label='Predicted (Latest)', markersize=10)\n",
    "\n",
    "    # Identify and highlight overlapping regions in the prediction\n",
    "    overlap = np.logical_and(predicted > 0, actual > 0)\n",
    "    plt.plot(x[overlap], actual[overlap], 'k', label='Overlap')\n",
    "\n",
    "    # Adding plot decorations\n",
    "    plt.title('Depression Prediction and Actual Values for a Random Index')\n",
    "    plt.xlabel('Time Step')\n",
    "    plt.ylabel('Value')\n",
    "    plt.legend()\n",
    "    plt.show()\n",
    "\n",
    "# Example usage (assuming xTest, yTest, and outputs are defined properly)\n",
    "# plot_prediction_vs_actual(xTest, yTest, outputs)\n"
   ]
  },
  {
   "cell_type": "code",
   "execution_count": 9,
   "metadata": {},
   "outputs": [],
   "source": [
    "def visualizePattern(data, feature):\n",
    "    plt.figure(figsize=(10, 6))\n",
    "    plt.plot(data['Year'], data[feature], marker='o')\n",
    "    plt.xlabel(\"Year\")\n",
    "    plt.ylabel(feature)\n",
    "    plt.title(f'Year vs {feature}')\n",
    "    plt.grid(True)\n",
    "    plt.show()\n",
    "\n",
    "\n",
    "# for dataframe in data:\n",
    "#     dataframe.info()\n",
    "#     for feature in dataframe.columns[1:]:\n",
    "#         visualizePattern(dataframe, feature)\n"
   ]
  },
  {
   "cell_type": "code",
   "execution_count": 10,
   "metadata": {},
   "outputs": [],
   "source": [
    "# for dataframe in data:\n",
    "#     autocorrelation_plot(dataframe)\n",
    "#     plt.show()"
   ]
  },
  {
   "cell_type": "code",
   "execution_count": 11,
   "metadata": {},
   "outputs": [],
   "source": [
    "def findDifferencingDegree(feature):\n",
    "    frame = feature.copy()\n",
    "    pValue =  adfuller(frame)[1]\n",
    "    d = 0\n",
    "    alpha = 0.05\n",
    "    while pValue > alpha:\n",
    "        frame = frame.diff().dropna() \n",
    "        d += 1\n",
    "        pValue = adfuller(frame)[1]\n",
    "    return d"
   ]
  },
  {
   "cell_type": "markdown",
   "metadata": {},
   "source": [
    "## Forecasting"
   ]
  },
  {
   "cell_type": "code",
   "execution_count": 12,
   "metadata": {},
   "outputs": [],
   "source": [
    "def movingAverage(feature, window):\n",
    "    return feature.rolling(window=window).mean()"
   ]
  },
  {
   "cell_type": "code",
   "execution_count": 13,
   "metadata": {},
   "outputs": [],
   "source": [
    "def exponentialSmoothing(feature):\n",
    "    model = ExponentialSmoothing(feature, trend='add', seasonal=None).fit(smoothing_level=0.2)\n",
    "    forecast = model.forecast(steps=10)\n",
    "    return np.array('\\n'.join(map(str, forecast)).split('\\n')).astype(float)"
   ]
  },
  {
   "cell_type": "code",
   "execution_count": 14,
   "metadata": {},
   "outputs": [],
   "source": [
    "def autoRegressive(feature, lag):\n",
    "    model = AutoReg(feature, lags=lag).fit()\n",
    "    forecast =  model.predict(start=len(feature)+1, end=len(feature)+10)\n",
    "    return np.array('\\n'.join(map(str, forecast)).split('\\n')).astype(float)"
   ]
  },
  {
   "cell_type": "code",
   "execution_count": 15,
   "metadata": {},
   "outputs": [],
   "source": [
    "def integratedAutoRegressiveMovingAverage(feature):\n",
    "    model = pm.auto_arima(feature, seasonal=False, stepwise=True)\n",
    "    forecast = model.predict(n_periods=10)\n",
    "    return np.array('\\n'.join(map(str, forecast)).split('\\n')).astype(float)\n",
    "   "
   ]
  },
  {
   "cell_type": "code",
   "execution_count": 16,
   "metadata": {},
   "outputs": [],
   "source": [
    "neuralNetworks ={\n",
    "    'RNN': SimpleRNN,\n",
    "    'LSTM': LSTM,\n",
    "    'FFNN': Dense,\n",
    "    'CNN': Conv1D\n",
    "}\n",
    "def multiLayerNeuralNetwork(neuralNetwork, data, feature):\n",
    "    model = Sequential()\n",
    "    model.add(InputLayer(input_shape=(data.shape[1],data.shape[2])))\n",
    "    model.add(neuralNetwork(64, activation=\"relu\", return_sequences=True))\n",
    "    model.add(neuralNetwork(50, activation=\"relu\"))\n",
    "    model.add(Dense(feature.shape[1], activation=\"softmax\"))\n",
    "    model.compile(optimizer='adam', loss='mse')\n",
    "    return model"
   ]
  },
  {
   "cell_type": "markdown",
   "metadata": {},
   "source": [
    "## Data Splitting"
   ]
  },
  {
   "cell_type": "code",
   "execution_count": 17,
   "metadata": {},
   "outputs": [],
   "source": [
    "data = loadData()\n",
    "data = yearlyAverage(data)"
   ]
  },
  {
   "cell_type": "code",
   "execution_count": 18,
   "metadata": {},
   "outputs": [],
   "source": [
    "classicalModel = {\n",
    "    'Moving Average': movingAverage,\n",
    "    'Exponential Smoothing': exponentialSmoothing,\n",
    "    'Auto Regressive': autoRegressive,\n",
    "    'Auto Regressive Integrated Moving Average': integratedAutoRegressiveMovingAverage\n",
    "}\n",
    "lags = [14,13,13]\n",
    "window = 3\n",
    "predictions = []\n",
    "for frame, lag in zip(data,lags):\n",
    "    frame.sort_values(by='Year', ascending=True, inplace=True)\n",
    "    frame['Year'] = pd.to_datetime(frame.sort_values(by='Year', ascending=True)['Year'], format='%Y')\n",
    "    disorders = frame.iloc[:,1:]\n",
    "    predicted = pd.DataFrame({'year': pd.date_range(start=frame['Year'].iloc[-1] + pd.DateOffset(years=1), periods=10, freq='Y')})   \n",
    "    years = pd.to_datetime(frame['Year'], format='%Y')\n",
    "    for disorder in disorders:\n",
    "        feature = pd.Series(disorders[disorder].values, index=years)\n",
    "        feature.index = feature.index.to_period('A') \n",
    "        for model in classicalModel:\n",
    "            if model == 'Auto Regressive Integrated Moving Average':\n",
    "                predicted[f\"{disorder} using {model}\"] = classicalModel[model](feature)\n",
    "            elif model == 'Exponential Smoothing':\n",
    "                predicted[f\"{disorder} using {model}\"]  = classicalModel[model](feature)\n",
    "            elif model == 'Moving Average':\n",
    "                predicted[f\"{disorder} using {model}\"] = classicalModel[model](disorders[disorder], window)\n",
    "            elif model == 'Auto Regressive':\n",
    "                predicted[f\"{disorder} using {model}\"] = classicalModel[model](feature, lag)\n",
    "    predictions.append(predicted)"
   ]
  }
 ],
 "metadata": {
  "kernelspec": {
   "display_name": "Dalia",
   "language": "python",
   "name": "python3"
  },
  "language_info": {
   "codemirror_mode": {
    "name": "ipython",
    "version": 3
   },
   "file_extension": ".py",
   "mimetype": "text/x-python",
   "name": "python",
   "nbconvert_exporter": "python",
   "pygments_lexer": "ipython3",
   "version": "3.11.9"
  }
 },
 "nbformat": 4,
 "nbformat_minor": 2
}
