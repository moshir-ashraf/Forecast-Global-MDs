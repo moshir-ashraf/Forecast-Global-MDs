{
 "cells": [
  {
   "cell_type": "markdown",
   "metadata": {},
   "source": [
    "## Importing Libraries"
   ]
  },
  {
   "cell_type": "code",
   "execution_count": 12,
   "metadata": {},
   "outputs": [],
   "source": [
    "import os\n",
    "import random\n",
    "import numpy as np\n",
    "import pandas as pd\n",
    "import seaborn as sns\n",
    "import tensorflow as tf\n",
    "import plotly.express as px\n",
    "import matplotlib.pyplot as plt\n",
    "from keras.models import Sequential\n",
    "from statsmodels.tsa.ar_model import AutoReg\n",
    "from statsmodels.tsa.arima_model import ARIMA\n",
    "from tensorflow.keras.layers import SimpleRNN, LSTM, Dense\n",
    "from statsmodels.tsa.holtwinters import ExponentialSmoothing\n",
    "from sklearn.preprocessing import StandardScaler, MinMaxScaler"
   ]
  },
  {
   "cell_type": "markdown",
   "metadata": {},
   "source": [
    "## Loading the data"
   ]
  },
  {
   "cell_type": "code",
   "execution_count": 3,
   "metadata": {},
   "outputs": [],
   "source": [
    "def loadData ():\n",
    "    csvFiles = [os.path.join(\"datasets\", filename) for filename in os.listdir(\"datasets\") if filename.endswith(('.csv'))]\n",
    "    data = []\n",
    "    i = 0\n",
    "    for file in csvFiles:\n",
    "        data.append(pd.read_csv(file).drop(['index'], axis=1))\n",
    "        if file == 'datasets/Mental health Depression disorder Data (1).csv' :\n",
    "            data[-1] = data[-1].iloc[:6468]\n",
    "    return data"
   ]
  },
  {
   "cell_type": "markdown",
   "metadata": {},
   "source": [
    "## Scaling the data"
   ]
  },
  {
   "cell_type": "code",
   "execution_count": 4,
   "metadata": {},
   "outputs": [],
   "source": [
    "def scale(data,feature,scaler):\n",
    "    data[feature] = scaler.fit_transform(data[feature].values.reshape(-1, 1))\n",
    "    data[feature] = scaler.transform(data[feature].values.reshape(-1, 1))\n",
    "    data[feature] = scaler.transform(data[feature].values.reshape(-1, 1))\n",
    "    return data"
   ]
  },
  {
   "cell_type": "markdown",
   "metadata": {},
   "source": [
    "## Handling Categorical data"
   ]
  },
  {
   "cell_type": "code",
   "execution_count": 5,
   "metadata": {
    "collapsed": false
   },
   "outputs": [],
   "source": [
    "def encode(data, feature):\n",
    "    encoded = pd.get_dummies(data[feature], prefix=feature)\n",
    "    data = pd.concat([data, encoded], axis=1)\n",
    "    data.drop(columns=[feature], inplace=True)\n",
    "    return data"
   ]
  },
  {
   "cell_type": "markdown",
   "metadata": {},
   "source": [
    "## Handling Outlier Using Inter Quantile Range (IQR)"
   ]
  },
  {
   "cell_type": "code",
   "execution_count": null,
   "metadata": {},
   "outputs": [],
   "source": []
  },
  {
   "cell_type": "code",
   "execution_count": null,
   "metadata": {},
   "outputs": [],
   "source": []
  },
  {
   "cell_type": "code",
   "execution_count": null,
   "metadata": {},
   "outputs": [],
   "source": []
  },
  {
   "cell_type": "markdown",
   "metadata": {},
   "source": [
    "## Decclaring the variables"
   ]
  },
  {
   "cell_type": "code",
   "execution_count": null,
   "metadata": {},
   "outputs": [],
   "source": []
  },
  {
   "cell_type": "code",
   "execution_count": null,
   "metadata": {},
   "outputs": [],
   "source": []
  },
  {
   "cell_type": "code",
   "execution_count": null,
   "metadata": {},
   "outputs": [],
   "source": []
  },
  {
   "cell_type": "markdown",
   "metadata": {},
   "source": [
    "## Plotting the data"
   ]
  },
  {
   "cell_type": "code",
   "execution_count": 6,
   "metadata": {},
   "outputs": [],
   "source": [
    "def plotting(df, sort_by, color_by, dpi=200):\n",
    "    df.sort_values(by=sort_by, inplace=True)\n",
    "    plt.figure(dpi=dpi) \n",
    "    fig = px.bar(df, x=sort_by, y=\"Entity\", orientation='h', color=color_by)\n",
    "    fig.show()"
   ]
  },
  {
   "cell_type": "code",
   "execution_count": 13,
   "metadata": {},
   "outputs": [],
   "source": [
    "def plotHistogram(df, column, title, xlabel, ylabel, figsize=(10, 6), kde=True):\n",
    "    plt.figure(figsize=figsize)\n",
    "    sns.histplot(df[column], kde=kde)\n",
    "    plt.title(title)\n",
    "    plt.xlabel(xlabel)\n",
    "    plt.ylabel(ylabel)\n",
    "    plt.show()\n",
    "\n",
    "# Example usage\n",
    "# plot_histogram(df, 'Schizophrenia disorders (share of population) - Sex: Both - Age: Age-standardized', \n",
    "#                'Distribution of Schizophrenia Disorder Prevalence', 'Prevalence (Age-standardized)', 'Frequency')\n"
   ]
  },
  {
   "cell_type": "code",
   "execution_count": 14,
   "metadata": {},
   "outputs": [],
   "source": [
    "\n",
    "def plotLosses(trainLosses, valLosses, title='Training and Validation Losses', xlabel='Epoch', ylabel='Loss'):\n",
    "\n",
    "    plt.plot(trainLosses, label='Train Loss')\n",
    "    plt.plot(valLosses, label='Val Loss')\n",
    "    plt.xlabel(xlabel)\n",
    "    plt.ylabel(ylabel)\n",
    "    plt.title(title)\n",
    "    plt.legend()\n",
    "    plt.show()\n",
    "\n",
    "# Example usage\n",
    "# plot_losses(train_losses, val_losses)\n"
   ]
  },
  {
   "cell_type": "markdown",
   "metadata": {},
   "source": [
    "### Model Architecture"
   ]
  },
  {
   "cell_type": "code",
   "execution_count": null,
   "metadata": {},
   "outputs": [],
   "source": [
    "# Function to plot predicted vs actual data\n",
    "def plotPredictionsVSActual(xTest, yTest, outputs, interval=(0, 39)):\n",
    "\n",
    "    i = random.randint(*interval)\n",
    "\n",
    "    # Extend the last point in the test sequence with the predicted and actual outcome\n",
    "    predicted = np.append(xTest[i, :, 0], outputs[i])\n",
    "    actual = np.append(xTest[i, :, 0], yTest[i])\n",
    "\n",
    "    # Time points for plotting\n",
    "    x = np.linspace(0, len(predicted) - 1, len(predicted))\n",
    "\n",
    "    # Plotting the series\n",
    "    plt.figure(figsize=(10, 6))\n",
    "    plt.plot(x[:-1], actual[:-1], 'r-', label='Actual (History)')\n",
    "    plt.plot(x[-1:], actual[-1:], 'ro', label='Actual (Latest)', markersize=10)\n",
    "    plt.plot(x[:-1], predicted[:-1], 'b-', label='Predicted (History)')\n",
    "    plt.plot(x[-1:], predicted[-1:], 'bo', label='Predicted (Latest)', markersize=10)\n",
    "\n",
    "    # Identify and highlight overlapping regions in the prediction\n",
    "    overlap = np.logical_and(predicted > 0, actual > 0)\n",
    "    plt.plot(x[overlap], actual[overlap], 'k', label='Overlap')\n",
    "\n",
    "    # Adding plot decorations\n",
    "    plt.title('Depression Prediction and Actual Values for a Random Index')\n",
    "    plt.xlabel('Time Step')\n",
    "    plt.ylabel('Value')\n",
    "    plt.legend()\n",
    "    plt.show()\n",
    "\n",
    "# Example usage (assuming xTest, yTest, and outputs are defined properly)\n",
    "# plot_prediction_vs_actual(xTest, yTest, outputs)\n"
   ]
  },
  {
   "cell_type": "code",
   "execution_count": null,
   "metadata": {},
   "outputs": [],
   "source": []
  },
  {
   "cell_type": "code",
   "execution_count": null,
   "metadata": {},
   "outputs": [],
   "source": []
  },
  {
   "cell_type": "code",
   "execution_count": null,
   "metadata": {},
   "outputs": [],
   "source": []
  },
  {
   "cell_type": "code",
   "execution_count": null,
   "metadata": {},
   "outputs": [],
   "source": []
  },
  {
   "cell_type": "code",
   "execution_count": null,
   "metadata": {},
   "outputs": [],
   "source": []
  },
  {
   "cell_type": "markdown",
   "metadata": {},
   "source": [
    "## Forecasting"
   ]
  },
  {
   "cell_type": "markdown",
   "metadata": {},
   "source": []
  }
 ],
 "metadata": {
  "kernelspec": {
   "display_name": "Dalia",
   "language": "python",
   "name": "python3"
  },
  "language_info": {
   "codemirror_mode": {
    "name": "ipython",
    "version": 3
   },
   "file_extension": ".py",
   "mimetype": "text/x-python",
   "name": "python",
   "nbconvert_exporter": "python",
   "pygments_lexer": "ipython3",
   "version": "3.10.6"
  }
 },
 "nbformat": 4,
 "nbformat_minor": 2
}
